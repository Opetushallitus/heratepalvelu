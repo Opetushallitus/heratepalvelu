{
 "cells": [
  {
   "cell_type": "code",
   "execution_count": null,
   "id": "f3b1e86c-f0bc-41ab-bcec-bef67dff90a0",
   "metadata": {},
   "outputs": [],
   "source": [
    "import sys\n",
    "import json\n",
    "import pandas as pd\n",
    "import numpy as np\n",
    "from tqdm import tqdm  # Used to measure progress of long a running script."
   ]
  },
  {
   "cell_type": "code",
   "execution_count": null,
   "id": "47e21035-86ed-42e4-a44d-1b70a2ceb9ad",
   "metadata": {},
   "outputs": [],
   "source": [
    "pd.set_option('display.max_columns', None)  # Show all columns when displaying DataFrames."
   ]
  },
  {
   "cell_type": "code",
   "execution_count": null,
   "id": "5506a15e-993a-40d4-b878-93b6c36e0e6d",
   "metadata": {},
   "outputs": [],
   "source": [
    "drop_list = ['tutkinnonosa_tyyppi',\n",
    "             # 'ohjaaja_nimi',\n",
    "             'ohjaaja_puhelinnumero',\n",
    "             # 'rahoituskausi',\n",
    "             # 'ohjaaja_email',\n",
    "             'tpk-niputuspvm',\n",
    "             'ohjaaja_ytunnus_kj_tutkinto',\n",
    "             'opiskeluoikeus_oid']\n",
    "\n",
    "rename_dict = {'tyopaikan_normalisoitu_nimi': 'tyopaikka_normalisoitu',\n",
    "               'tyopaikan_nimi': 'tyopaikka',\n",
    "               'oppilaitos': 'oppilaitos_oid',\n",
    "               'koulutustoimija': 'koulutustoimija_oid',\n",
    "               'alkupvm':'vastaamisajan_alkupvm',\n",
    "               'viimeinen_vastauspvm': 'vastaamisajan_loppupvm',\n",
    "               'oppilaitos': 'oppilaitos_oid',\n",
    "               'uusi-kesto-without-oa': 'tyopaikkajakson_kesto',\n",
    "               'hankkimistapa_tyyppi': 'sopimustyyppi',\n",
    "               'tyopaikan_ytunnus': 'tyonantaja',\n",
    "               'tutkinto': 'tutkintotunnus',\n",
    "               'tutkinnonosa_nimi': 'paikallinen_tutkinnon_osa',\n",
    "               # 'niputuspvm': 'vastaamisajan_alkupvm',\n",
    "               'jakso_loppupvm': 'tyopaikkajakson_loppupvm',\n",
    "               'jakso_alkupvm': 'tyopaikkajakson_alkupvm',\n",
    "               'tutkinnonosa_koodi': 'tutkinnon_osa',\n",
    "               'existing-arvo-tunnus': 'tunnus'}\n",
    "\n",
    "types = {\n",
    "    \"osa_aikaisuus\": 'string',\n",
    "    \"tyopaikka\": 'string',\n",
    "    \"rahoitusryhma\": 'string',\n",
    "    \"tyopaikka_normalisoitu\": 'string',\n",
    "    \"vastaamisajan_alkupvm\": 'string',\n",
    "    \"tyonantaja\": 'string',\n",
    "    \"oppisopimuksen_perusta\": 'string',\n",
    "    \"tyopaikkajakson_kesto\": 'string',\n",
    "    \"osaamisala\": 'string',\n",
    "    \"koulutustoimija_oid\": 'string',\n",
    "    \"paikallinen_tutkinnon_osa\": 'string',\n",
    "    \"tyopaikkajakson_loppupvm\": 'string',\n",
    "    \"toimipiste_oid\": 'string',\n",
    "    \"oppilaitos_oid\": 'string',\n",
    "    \"tyopaikkajakson_alkupvm\": 'string',\n",
    "    \"tutkintotunnus\": 'string',\n",
    "    \"sopimustyyppi\": 'string',\n",
    "    \"tutkintonimike\": 'string',\n",
    "    \"request_id\": 'string',\n",
    "    \"vastaamisajan_loppupvm\": 'string',\n",
    "    \"tutkinnon_osa\": 'string'\n",
    "}"
   ]
  },
  {
   "cell_type": "code",
   "execution_count": null,
   "id": "3fc530ff-7973-4abd-acd5-3bc7fd29a5e1",
   "metadata": {},
   "outputs": [],
   "source": [
    "with open('jaksotunnus-taulun-data.json') as file:\n",
    "    data = json.load(file)\n",
    "    vanha_df = pd.DataFrame(data)\n",
    "    vanha_df = vanha_df.set_index('hankkimistapa_id')\n",
    "    vanha_df = vanha_df.drop(columns=drop_list)\n",
    "    vanha_df = vanha_df.rename(columns=rename_dict)\n",
    "\n",
    "with open('rahoituslaskenta-taulun-data.json') as file:\n",
    "    data = json.load(file)\n",
    "    uusi_df = pd.DataFrame(data)\n",
    "    uusi_df = uusi_df.set_index('hankkimistapa_id')\n",
    "    uusi_df = uusi_df.drop(columns=drop_list)\n",
    "    uusi_df = uusi_df.drop(columns=['vanha-kesto', 'uusi-kesto-with-oa', 'save-timestamp', 'tallennuspvm'])\n",
    "    uusi_df = uusi_df.fillna('')\n",
    "    uusi_df = uusi_df.rename(columns=rename_dict)"
   ]
  },
  {
   "cell_type": "code",
   "execution_count": null,
   "id": "c3f41621-2aa5-42e5-bc25-f46f5ccce807",
   "metadata": {
    "tags": []
   },
   "outputs": [],
   "source": [
    "# vanha_df[(vanha_df.kesto == 0)]\n",
    "# uusi_df[(uusi_df.tyopaikkajakson_kesto == 0)]\n",
    "# vanha_df[vanha_df.rahoituskausi == '2022-2023']\n",
    "# vanha_df[(vanha_df.rahoituskausi == '2021-2022') & (vanha_df.tunnus != '')]"
   ]
  },
  {
   "cell_type": "code",
   "execution_count": null,
   "id": "2e93d7d1-2fff-49e1-a53e-7d691d2f7e78",
   "metadata": {},
   "outputs": [],
   "source": [
    "def get_tutkinnonosa(x):\n",
    "    splitted = x.split('_')\n",
    "    if len(splitted) == 2:\n",
    "        return splitted[1]\n",
    "    return x\n",
    "\n",
    "def to_comma_separated_list(x):\n",
    "    # Yksinkertaiseksi listaksi, jossa elementit eroteltu pilkulla.\n",
    "    return ','.join(map(lambda y: y[1:-1], x[1:-1].split()))\n",
    "    # Sama kuin yllä, paitsi ympäröity lisäksi hakasulkeilla.\n",
    "    # return ','.join(x.replace('(', '[').replace(')', ']').split())"
   ]
  },
  {
   "cell_type": "code",
   "execution_count": null,
   "id": "b28cd3a7-c8a3-43e3-8fcb-77e88189f0e0",
   "metadata": {},
   "outputs": [],
   "source": [
    "# Ensimmäinen datasetti: Jaksot joihin löytynyt match hankkimistapa-id:n perusteella.\n",
    "jaksot_tunnuksilla_1 = uusi_df\n",
    "jaksot_tunnuksilla_1 = jaksot_tunnuksilla_1.astype(types)\n",
    "\n",
    "jaksot_tunnuksilla_1['tutkinnon_osa'] = jaksot_tunnuksilla_1['tutkinnon_osa'].apply(get_tutkinnonosa)\n",
    "jaksot_tunnuksilla_1['tutkintonimike'] = jaksot_tunnuksilla_1['tutkintonimike'].apply(to_comma_separated_list)\n",
    "jaksot_tunnuksilla_1['osaamisala'] = jaksot_tunnuksilla_1['osaamisala'].apply(to_comma_separated_list)\n",
    "\n",
    "jaksot_tunnuksilla_1 = jaksot_tunnuksilla_1[jaksot_tunnuksilla_1['tunnus'] != '']\n",
    "jaksot_tunnuksilla_1 = jaksot_tunnuksilla_1.drop(columns=['niputuspvm', 'oppija_oid','hoks_id', 'rahoituskausi', 'ohjaaja_nimi','ohjaaja_email', 'tutkinnonosa_id'])\n",
    "jaksot_tunnuksilla_1 = jaksot_tunnuksilla_1.set_index('tunnus')\n",
    "jaksot_tunnuksilla_1.to_csv('jaksot-tunnuksilla-1.2.csv', sep='|')\n",
    "jaksot_tunnuksilla_1"
   ]
  },
  {
   "cell_type": "code",
   "execution_count": null,
   "id": "cfff69b3-1ab5-43ba-9132-afe2fdbacb54",
   "metadata": {},
   "outputs": [],
   "source": [
    "def get_tutkinnonosa(x):\n",
    "    splitted = x.split('_')\n",
    "    if len(splitted) == 2:\n",
    "        return splitted[1]\n",
    "    return x\n",
    "\n",
    "uusi_df['tutkinnonosa_koodi'].apply(get_tutkinnonosa)"
   ]
  },
  {
   "cell_type": "code",
   "execution_count": null,
   "id": "c7370b65-daca-46c6-b926-70b0105a51a5",
   "metadata": {},
   "outputs": [],
   "source": [
    "vanha_df[(vanha_df.tyopaikkajakson_loppupvm < \"2022-07-01\") & (vanha_df.tunnus != '')]\n",
    "# vanha_df"
   ]
  },
  {
   "cell_type": "code",
   "execution_count": null,
   "id": "8362a27b-b35a-465f-9418-32af248b19b2",
   "metadata": {},
   "outputs": [],
   "source": [
    "vanha_df[~vanha_df.tunnus.isin(uusi_df.tunnus[uusi_df.tunnus != ''])]"
   ]
  },
  {
   "cell_type": "code",
   "execution_count": null,
   "id": "14e5c732-cf09-4ec1-a732-81f9af76cbf1",
   "metadata": {
    "tags": []
   },
   "outputs": [],
   "source": [
    "# tepRahoitusTablen jaksot joille ei ole vielä löydetty Arvo-tunnusta hankkimistapa-id:n perusteella.\n",
    "uusi_without_tunnus = uusi_df[uusi_df.tunnus == '']\n",
    "# Kopio yllä olevasta DataFramesta. Tätä täytetään alla olevassa silmukassa.\n",
    "tunnukset_found = uusi_without_tunnus\n",
    "# Jaksot jaksotunnus-taulusta, joista on poistettu ne jaksot jotka on jo mätsätty hankkimistapa-id:n perusteella.\n",
    "vanha_unmatched = vanha_df[~vanha_df.tunnus.isin(uusi_df.tunnus[uusi_df.tunnus != ''])]\n",
    "# Suodatetaan pois uuden rahoituskauden jaksot.\n",
    "vanha_unmatched = vanha_unmatched[vanha_unmatched.tyopaikkajakson_loppupvm < \"2022-07-01\"]\n",
    "# Uniikit HOKS ID:t listaan.\n",
    "unique_hoks_ids = np.unique(uusi_df['hoks_id'])\n",
    "\n",
    "for hoks_id in tqdm(unique_hoks_ids):\n",
    "    \n",
    "    # Haetaan hoks_id:tä vastaavat rivit (jaksot) jaksotunnus-taulun datasta\n",
    "    # (`vanha_df`) ja tepRahoitusLaskenta-taulun datasta (`uusi_df`).\n",
    "    rows_uusi = uusi_without_tunnus[uusi_without_tunnus.hoks_id == hoks_id]\n",
    "    rows_vanha = vanha_unmatched[vanha_unmatched.hoks_id == hoks_id]\n",
    "    \n",
    "    for index,row in rows_uusi.iterrows():\n",
    "        \n",
    "        # Ensisijaiset päättelyn kriteerit.\n",
    "        rows = rows_vanha[(rows_vanha.tutkinnon_osa == row.tutkinnon_osa) &\n",
    "                          (rows_vanha.tyonantaja == row.tyonantaja)]\n",
    "        \n",
    "        # * Jos jäljelle jääneitä rivejä on vain yksi, voidaan olla varmoja että\n",
    "        #   rivin `row` jakso vastaa jäljelle jääneen rivin jaksoa.\n",
    "        if rows.shape[0] == 1:\n",
    "            tunnukset_found.at[index, 'tunnus'] = rows.tunnus.values\n",
    "        \n",
    "        # Jos jäljelle jääneitä rivejä on enemmän kuin yksi, käytetään toissijaisia\n",
    "        # kriteerejä päättelyssä, esim. jakson alku- ja loppupvm.\n",
    "        if rows.shape[0] > 1:\n",
    "            rows = rows[((rows.tyopaikkajakson_alkupvm == row.tyopaikkajakson_alkupvm) &\n",
    "                        (rows.tyopaikkajakson_loppupvm == row.tyopaikkajakson_loppupvm)) |\n",
    "                        ((rows.ohjaaja_nimi == row.ohjaaja_nimi) |\n",
    "                           (rows.ohjaaja_email == row.ohjaaja_email))]\n",
    "            # Sama kuin * yllä.\n",
    "            if rows.shape[0] == 1:\n",
    "                tunnukset_found.at[index, 'tunnus'] = rows.tunnus.values"
   ]
  },
  {
   "cell_type": "code",
   "execution_count": null,
   "id": "f00f3edf-41c2-4066-92c3-39087078c5db",
   "metadata": {},
   "outputs": [],
   "source": [
    "tunnukset_found[tunnukset_found.tunnus != '']"
   ]
  },
  {
   "cell_type": "code",
   "execution_count": null,
   "id": "a2bd2b5f-17ae-4176-90a7-7845c23d3656",
   "metadata": {},
   "outputs": [],
   "source": [
    "tunnukset_found_old = tunnukset_found\n",
    "tunnukset_found_old[tunnukset_found_old.tunnus != '']"
   ]
  }
 ],
 "metadata": {
  "kernelspec": {
   "display_name": "Python 3 (ipykernel)",
   "language": "python",
   "name": "python3"
  },
  "language_info": {
   "codemirror_mode": {
    "name": "ipython",
    "version": 3
   },
   "file_extension": ".py",
   "mimetype": "text/x-python",
   "name": "python",
   "nbconvert_exporter": "python",
   "pygments_lexer": "ipython3",
   "version": "3.10.6"
  }
 },
 "nbformat": 4,
 "nbformat_minor": 5
}
