{
 "cells": [
  {
   "cell_type": "code",
   "execution_count": null,
   "id": "f3b1e86c-f0bc-41ab-bcec-bef67dff90a0",
   "metadata": {},
   "outputs": [],
   "source": [
    "import sys\n",
    "import json\n",
    "import pandas as pd\n",
    "import numpy as np\n",
    "from tqdm import tqdm  # Used to measure progress of long a running script."
   ]
  },
  {
   "cell_type": "code",
   "execution_count": null,
   "id": "47e21035-86ed-42e4-a44d-1b70a2ceb9ad",
   "metadata": {},
   "outputs": [],
   "source": [
    "pd.set_option('display.max_columns', None)  # Show all columns when displaying DataFrames."
   ]
  },
  {
   "cell_type": "code",
   "execution_count": null,
   "id": "5506a15e-993a-40d4-b878-93b6c36e0e6d",
   "metadata": {},
   "outputs": [],
   "source": [
    "drop_list = ['tpk-niputuspvm',\n",
    "             'ohjaaja_ytunnus_kj_tutkinto',\n",
    "             'opiskeluoikeus_oid']\n",
    "\n",
    "rename_dict = {'tyopaikan_normalisoitu_nimi': 'tyopaikka_normalisoitu',\n",
    "               'tyopaikan_nimi': 'tyopaikka',\n",
    "               'oppilaitos': 'oppilaitos_oid',\n",
    "               'koulutustoimija': 'koulutustoimija_oid',\n",
    "               'alkupvm':'vastaamisajan_alkupvm',\n",
    "               'viimeinen_vastauspvm': 'vastaamisajan_loppupvm',\n",
    "               'oppilaitos': 'oppilaitos_oid',\n",
    "               'uusi-kesto-without-oa': 'tyopaikkajakson_kesto',\n",
    "               'hankkimistapa_tyyppi': 'sopimustyyppi',\n",
    "               'tyopaikan_ytunnus': 'tyonantaja',\n",
    "               'tutkinto': 'tutkintotunnus',\n",
    "               'tutkinnonosa_nimi': 'paikallinen_tutkinnon_osa',\n",
    "               'jakso_loppupvm': 'tyopaikkajakson_loppupvm',\n",
    "               'jakso_alkupvm': 'tyopaikkajakson_alkupvm',\n",
    "               'tutkinnonosa_koodi': 'tutkinnon_osa',\n",
    "               'existing-arvo-tunnus': 'tunnus'}\n",
    "\n",
    "types = {\n",
    "    \"osa_aikaisuus\": 'string',\n",
    "    \"tyopaikka\": 'string',\n",
    "    \"rahoitusryhma\": 'string',\n",
    "    \"tyopaikka_normalisoitu\": 'string',\n",
    "    \"vastaamisajan_alkupvm\": 'string',\n",
    "    \"tyonantaja\": 'string',\n",
    "    \"oppisopimuksen_perusta\": 'string',\n",
    "    \"tyopaikkajakson_kesto\": 'string',\n",
    "    \"osaamisala\": 'string',\n",
    "    \"koulutustoimija_oid\": 'string',\n",
    "    \"paikallinen_tutkinnon_osa\": 'string',\n",
    "    \"tyopaikkajakson_loppupvm\": 'string',\n",
    "    \"toimipiste_oid\": 'string',\n",
    "    \"oppilaitos_oid\": 'string',\n",
    "    \"tyopaikkajakson_alkupvm\": 'string',\n",
    "    \"tutkintotunnus\": 'string',\n",
    "    \"sopimustyyppi\": 'string',\n",
    "    \"tutkintonimike\": 'string',\n",
    "    \"request_id\": 'string',\n",
    "    \"vastaamisajan_loppupvm\": 'string',\n",
    "    \"tutkinnon_osa\": 'string'\n",
    "}"
   ]
  },
  {
   "cell_type": "code",
   "execution_count": null,
   "id": "3fc530ff-7973-4abd-acd5-3bc7fd29a5e1",
   "metadata": {},
   "outputs": [],
   "source": [
    "with open('jaksotunnus-taulun-data.json') as file:\n",
    "    data = json.load(file)\n",
    "    vanha_df = pd.DataFrame(data)\n",
    "    vanha_df = vanha_df.set_index('hankkimistapa_id')\n",
    "    vanha_df = vanha_df.drop(columns=drop_list)\n",
    "    vanha_df = vanha_df.rename(columns=rename_dict)\n",
    "\n",
    "with open('rahoituslaskenta-taulun-data.json') as file:\n",
    "    data = json.load(file)\n",
    "    uusi_df = pd.DataFrame(data)\n",
    "    uusi_df = uusi_df.set_index('hankkimistapa_id')\n",
    "    uusi_df = uusi_df.drop(columns=drop_list)\n",
    "    uusi_df = uusi_df.drop(columns=['vanha-kesto', 'uusi-kesto-with-oa', 'save-timestamp', 'tallennuspvm'])\n",
    "    uusi_df = uusi_df.fillna('')\n",
    "    uusi_df = uusi_df.rename(columns=rename_dict)"
   ]
  },
  {
   "cell_type": "code",
   "execution_count": null,
   "id": "f629eddd-0242-4189-ab41-c7d7b645376e",
   "metadata": {},
   "outputs": [],
   "source": [
    "# Suodatetaan jaksot joissa kesto yli 1500 päivää.\n",
    "uusi_df = uusi_df[uusi_df.tyopaikkajakson_kesto <= 1500]"
   ]
  },
  {
   "cell_type": "code",
   "execution_count": null,
   "id": "2e93d7d1-2fff-49e1-a53e-7d691d2f7e78",
   "metadata": {},
   "outputs": [],
   "source": [
    "def get_tutkinnonosa(x):\n",
    "    splitted = x.split('_')\n",
    "    if len(splitted) == 2:\n",
    "        return splitted[1]\n",
    "    return x\n",
    "\n",
    "def to_comma_separated_list(x):\n",
    "    # Yksinkertaiseksi listaksi, jossa elementit eroteltu pilkulla.\n",
    "    return ','.join(map(lambda y: y[1:-1], x[1:-1].split()))\n",
    "    # Sama kuin yllä, paitsi ympäröity lisäksi hakasulkeilla.\n",
    "    # return ','.join(x.replace('(', '[').replace(')', ']').split())"
   ]
  },
  {
   "cell_type": "code",
   "execution_count": null,
   "id": "b28cd3a7-c8a3-43e3-8fcb-77e88189f0e0",
   "metadata": {},
   "outputs": [],
   "source": [
    "# Ensimmäinen datasetti: Jaksot joihin löytynyt match hankkimistapa-id:n perusteella.\n",
    "jaksot_tunnuksilla_1 = uusi_df\n",
    "jaksot_tunnuksilla_1 = jaksot_tunnuksilla_1.astype(types)\n",
    "\n",
    "jaksot_tunnuksilla_1['tutkinnon_osa'] = jaksot_tunnuksilla_1['tutkinnon_osa'].apply(get_tutkinnonosa)\n",
    "jaksot_tunnuksilla_1['tutkintonimike'] = jaksot_tunnuksilla_1['tutkintonimike'].apply(to_comma_separated_list)\n",
    "jaksot_tunnuksilla_1['osaamisala'] = jaksot_tunnuksilla_1['osaamisala'].apply(to_comma_separated_list)\n",
    "\n",
    "jaksot_tunnuksilla_1 = jaksot_tunnuksilla_1[jaksot_tunnuksilla_1['tunnus'] != '']\n",
    "jaksot_tunnuksilla_1 = jaksot_tunnuksilla_1.drop(columns=['niputuspvm', 'oppija_oid','hoks_id', 'rahoituskausi', 'ohjaaja_nimi','ohjaaja_email', 'ohjaaja_puhelinnumero', 'tutkinnonosa_id', 'tutkinnonosa_tyyppi'])\n",
    "jaksot_tunnuksilla_1 = jaksot_tunnuksilla_1.set_index('tunnus')\n",
    "jaksot_tunnuksilla_1.to_csv('jaksot-tunnuksilla-1.2.csv', sep='|')\n",
    "jaksot_tunnuksilla_1"
   ]
  },
  {
   "cell_type": "code",
   "execution_count": null,
   "id": "d7f7d7d0-6006-48a3-8053-56843fdb1fca",
   "metadata": {},
   "outputs": [],
   "source": [
    "uusi_df[uusi_df.tunnus != '']"
   ]
  },
  {
   "cell_type": "code",
   "execution_count": null,
   "id": "cfff69b3-1ab5-43ba-9132-afe2fdbacb54",
   "metadata": {},
   "outputs": [],
   "source": [
    "def get_tutkinnonosa(x):\n",
    "    splitted = x.split('_')\n",
    "    if len(splitted) == 2:\n",
    "        return splitted[1]\n",
    "    return x\n",
    "\n",
    "uusi_df['tutkinnon_osa'].apply(get_tutkinnonosa)"
   ]
  },
  {
   "cell_type": "code",
   "execution_count": null,
   "id": "c7370b65-daca-46c6-b926-70b0105a51a5",
   "metadata": {},
   "outputs": [],
   "source": [
    "vanha_df[(vanha_df.tyopaikkajakson_loppupvm < \"2022-07-01\") & (vanha_df.tunnus != '')]\n",
    "# vanha_df"
   ]
  },
  {
   "cell_type": "code",
   "execution_count": null,
   "id": "8362a27b-b35a-465f-9418-32af248b19b2",
   "metadata": {},
   "outputs": [],
   "source": [
    "vanha_df[~vanha_df.tunnus.isin(uusi_df.tunnus[uusi_df.tunnus != ''])]"
   ]
  },
  {
   "cell_type": "code",
   "execution_count": null,
   "id": "83e0e03b-097c-4ae9-b974-daace748329e",
   "metadata": {},
   "outputs": [],
   "source": [
    "# tepRahoitusTablen jaksot joille ei ole vielä löydetty Arvo-tunnusta hankkimistapa-id:n perusteella.\n",
    "uusi_without_tunnus = uusi_df[uusi_df.tunnus == '']\n",
    "# Kopio yllä olevasta DataFramesta. Tätä täytetään alla olevassa silmukassa.\n",
    "tunnukset_found = uusi_without_tunnus\n",
    "# Jaksot jaksotunnus-taulusta, joista on poistettu ne jaksot jotka on jo mätsätty hankkimistapa-id:n perusteella.\n",
    "vanha_unmatched = vanha_df[~vanha_df.tunnus.isin(uusi_df.tunnus[uusi_df.tunnus != ''])]\n",
    "# Suodatetaan pois uuden rahoituskauden jaksot.\n",
    "vanha_unmatched = vanha_unmatched[vanha_unmatched.tyopaikkajakson_loppupvm < \"2022-07-01\"]\n",
    "# Uniikit HOKS ID:t listaan.\n",
    "unique_hoks_ids = np.unique(uusi_df['hoks_id'])\n",
    "\n",
    "for hoks_id in tqdm(unique_hoks_ids):\n",
    "    \n",
    "    # Haetaan hoks_id:tä vastaavat rivit (jaksot) jaksotunnus-taulun datasta\n",
    "    # (`vanha_df`) ja tepRahoitusLaskenta-taulun datasta (`uusi_df`).\n",
    "    rows_uusi = uusi_without_tunnus[uusi_without_tunnus.hoks_id == hoks_id]\n",
    "    rows_vanha = vanha_unmatched[vanha_unmatched.hoks_id == hoks_id]\n",
    "    \n",
    "    ensisijaiset_kentat = ['tyonantaja', 'tutkinnon_osa']\n",
    "    \n",
    "    toissijaiset_kentat = ['tyopaikkajakson_loppupvm',\n",
    "                           'tyopaikkajakson_alkupvm',\n",
    "                           'ohjaaja_email',\n",
    "                           'ohjaaja_nimi',\n",
    "                           'ohjaaja_puhelinnumero',\n",
    "                           'sopimustyyppi',\n",
    "                           'tutkinnonosa_tyyppi']\n",
    "    toissijaiset_kentat_reversed = toissijaiset_kentat.copy()\n",
    "    toissijaiset_kentat_reversed.reverse()\n",
    "    toissijaiset_kentat_2 = ['ohjaaja_email',\n",
    "                             'ohjaaja_puhelinnumero',\n",
    "                             'ohjaaja_nimi',\n",
    "                             'tyopaikkajakson_alkupvm',\n",
    "                             'tyopaikkajakson_loppupvm',\n",
    "                             'tutkinnonosa_tyyppi',\n",
    "                             'sopimustyyppi']\n",
    "    \n",
    "    ts_kentat_variaatiot = [toissijaiset_kentat,\n",
    "                            toissijaiset_kentat_reversed,\n",
    "                            toissijaiset_kentat_2]\n",
    "        \n",
    "    for index,row in rows_uusi.iterrows():\n",
    "        \n",
    "        match_loytynyt = False\n",
    "        \n",
    "        for ts_kentat in ts_kentat_variaatiot:\n",
    "            \n",
    "            rows_trimmed = rows_vanha\n",
    "            \n",
    "            for kentta in ensisijaiset_kentat + ts_kentat:\n",
    "                rows_trimmed = rows_trimmed[rows_trimmed[kentta] == row[kentta]]\n",
    "\n",
    "                # * Jos jäljelle jääneitä rivejä on vain yksi, voidaan olla varmoja että\n",
    "                #   rivin `row` jakso vastaa jäljelle jääneen rivin jaksoa.\n",
    "                if rows_trimmed.shape[0] == 1:\n",
    "                    tunnukset_found.at[index, 'tunnus'] = rows_trimmed.tunnus.values[0]\n",
    "                    match_loytynyt = True\n",
    "                    break\n",
    "\n",
    "            if match_loytynyt:\n",
    "                break\n",
    "        \n",
    "        # if not match_loytynyt:\n",
    "        #     tunnukset_found.at[index, 'tunnus'] = ','.join(rows_trimmed.tunnus.values)"
   ]
  },
  {
   "cell_type": "code",
   "execution_count": null,
   "id": "15302578-59d3-4c63-a122-9448b34de1e4",
   "metadata": {},
   "outputs": [],
   "source": [
    "tunnukset_found_old = tunnukset_found"
   ]
  },
  {
   "cell_type": "code",
   "execution_count": null,
   "id": "ae61fdd9-d482-4d36-8cde-35b05ceccd29",
   "metadata": {},
   "outputs": [],
   "source": [
    "tunnukset_found[tunnukset_found.tunnus != '']"
   ]
  },
  {
   "cell_type": "code",
   "execution_count": null,
   "id": "510fb161-1f98-435c-a2c7-48890f880a53",
   "metadata": {},
   "outputs": [],
   "source": [
    "tunnukset_found_cat = pd.concat([tunnukset_found[tunnukset_found.tunnus != ''], uusi_df[uusi_df.tunnus != '']]).dropna(subset=['tunnus'])"
   ]
  },
  {
   "cell_type": "code",
   "execution_count": null,
   "id": "7bff362b-03a5-4607-aa20-a7c2f9addd15",
   "metadata": {},
   "outputs": [],
   "source": [
    "# Toinen datasetti: Jaksot joihin löytynyt match hankkimistapa-id:n perusteella tai joihin tunnus on muuten pystytty päättelemään.\n",
    "jaksot_tunnuksilla_2 = tunnukset_found_cat[tunnukset_found_cat.tunnus != '']\n",
    "jaksot_tunnuksilla_2 = jaksot_tunnuksilla_2.astype(types)\n",
    "jaksot_tunnuksilla_2 = jaksot_tunnuksilla_2[~jaksot_tunnuksilla_2.index.isin([...])]\n",
    "\n",
    "jaksot_tunnuksilla_2['tutkinnon_osa'] = jaksot_tunnuksilla_2['tutkinnon_osa'].apply(get_tutkinnonosa)\n",
    "jaksot_tunnuksilla_2['tutkintonimike'] = jaksot_tunnuksilla_2['tutkintonimike'].apply(to_comma_separated_list)\n",
    "jaksot_tunnuksilla_2['osaamisala'] = jaksot_tunnuksilla_2['osaamisala'].apply(to_comma_separated_list)\n",
    "\n",
    "jaksot_tunnuksilla_2 = jaksot_tunnuksilla_2[jaksot_tunnuksilla_2['tunnus'] != '']\n",
    "jaksot_tunnuksilla_2 = jaksot_tunnuksilla_2.drop(columns=['niputuspvm', 'oppija_oid','hoks_id', 'rahoituskausi', 'ohjaaja_nimi','ohjaaja_email', 'ohjaaja_puhelinnumero', 'tutkinnonosa_id', 'tutkinnonosa_tyyppi'])\n",
    "jaksot_tunnuksilla_2 = jaksot_tunnuksilla_2.set_index('tunnus')\n",
    "jaksot_tunnuksilla_2.to_csv('jaksot-tunnuksilla-2.csv', sep='|')\n",
    "jaksot_tunnuksilla_2"
   ]
  }
 ],
 "metadata": {
  "kernelspec": {
   "display_name": "Python 3 (ipykernel)",
   "language": "python",
   "name": "python3"
  },
  "language_info": {
   "codemirror_mode": {
    "name": "ipython",
    "version": 3
   },
   "file_extension": ".py",
   "mimetype": "text/x-python",
   "name": "python",
   "nbconvert_exporter": "python",
   "pygments_lexer": "ipython3",
   "version": "3.10.6"
  }
 },
 "nbformat": 4,
 "nbformat_minor": 5
}
